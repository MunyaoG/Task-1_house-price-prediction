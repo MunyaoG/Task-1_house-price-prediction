{
 "cells": [
  {
   "cell_type": "markdown",
   "id": "8b176669-5c78-4dd9-bbcd-7a66a13d4571",
   "metadata": {},
   "source": [
    "# HOUSE PRICE PREDICTION"
   ]
  },
  {
   "cell_type": "markdown",
   "id": "4048a3d3-e301-405a-8eaa-aac5c2a3578c",
   "metadata": {},
   "source": [
    "## Description\n",
    "- Objective: to develop a machine learning model to predict house prices.\n",
    "- Data: use a housing prices dataset from Kaggle."
   ]
  },
  {
   "cell_type": "markdown",
   "id": "a65a740e-9b6b-4bbe-b454-d1f40f04a5e5",
   "metadata": {},
   "source": [
    "### 1. Import the required modules"
   ]
  },
  {
   "cell_type": "code",
   "execution_count": 1,
   "id": "57d3e389-9fbc-4704-8aff-39b623c42770",
   "metadata": {},
   "outputs": [],
   "source": [
    "import pandas as pd\n",
    "import numpy as  np\n",
    "from sklearn.model_selection import train_test_split, GridSearchCV\n",
    "from sklearn.preprocessing import LabelEncoder\n",
    "from sklearn.linear_model import LinearRegression\n",
    "from sklearn.ensemble import GradientBoostingRegressor, RandomForestRegressor"
   ]
  },
  {
   "cell_type": "markdown",
   "id": "9b65c139-70f3-4cfb-b755-3a10f1ec5ef1",
   "metadata": {},
   "source": [
    "### 2. Import raw data"
   ]
  },
  {
   "cell_type": "code",
   "execution_count": 2,
   "id": "f8a57112-4496-4f22-a541-4005f497dc81",
   "metadata": {},
   "outputs": [
    {
     "data": {
      "text/html": [
       "<div>\n",
       "<style scoped>\n",
       "    .dataframe tbody tr th:only-of-type {\n",
       "        vertical-align: middle;\n",
       "    }\n",
       "\n",
       "    .dataframe tbody tr th {\n",
       "        vertical-align: top;\n",
       "    }\n",
       "\n",
       "    .dataframe thead th {\n",
       "        text-align: right;\n",
       "    }\n",
       "</style>\n",
       "<table border=\"1\" class=\"dataframe\">\n",
       "  <thead>\n",
       "    <tr style=\"text-align: right;\">\n",
       "      <th></th>\n",
       "      <th>price</th>\n",
       "      <th>area</th>\n",
       "      <th>bedrooms</th>\n",
       "      <th>bathrooms</th>\n",
       "      <th>stories</th>\n",
       "      <th>mainroad</th>\n",
       "      <th>guestroom</th>\n",
       "      <th>basement</th>\n",
       "      <th>hotwaterheating</th>\n",
       "      <th>airconditioning</th>\n",
       "      <th>parking</th>\n",
       "      <th>prefarea</th>\n",
       "      <th>furnishingstatus</th>\n",
       "    </tr>\n",
       "  </thead>\n",
       "  <tbody>\n",
       "    <tr>\n",
       "      <th>0</th>\n",
       "      <td>13300000</td>\n",
       "      <td>7420</td>\n",
       "      <td>4</td>\n",
       "      <td>2</td>\n",
       "      <td>3</td>\n",
       "      <td>yes</td>\n",
       "      <td>no</td>\n",
       "      <td>no</td>\n",
       "      <td>no</td>\n",
       "      <td>yes</td>\n",
       "      <td>2</td>\n",
       "      <td>yes</td>\n",
       "      <td>furnished</td>\n",
       "    </tr>\n",
       "    <tr>\n",
       "      <th>1</th>\n",
       "      <td>12250000</td>\n",
       "      <td>8960</td>\n",
       "      <td>4</td>\n",
       "      <td>4</td>\n",
       "      <td>4</td>\n",
       "      <td>yes</td>\n",
       "      <td>no</td>\n",
       "      <td>no</td>\n",
       "      <td>no</td>\n",
       "      <td>yes</td>\n",
       "      <td>3</td>\n",
       "      <td>no</td>\n",
       "      <td>furnished</td>\n",
       "    </tr>\n",
       "    <tr>\n",
       "      <th>2</th>\n",
       "      <td>12250000</td>\n",
       "      <td>9960</td>\n",
       "      <td>3</td>\n",
       "      <td>2</td>\n",
       "      <td>2</td>\n",
       "      <td>yes</td>\n",
       "      <td>no</td>\n",
       "      <td>yes</td>\n",
       "      <td>no</td>\n",
       "      <td>no</td>\n",
       "      <td>2</td>\n",
       "      <td>yes</td>\n",
       "      <td>semi-furnished</td>\n",
       "    </tr>\n",
       "    <tr>\n",
       "      <th>3</th>\n",
       "      <td>12215000</td>\n",
       "      <td>7500</td>\n",
       "      <td>4</td>\n",
       "      <td>2</td>\n",
       "      <td>2</td>\n",
       "      <td>yes</td>\n",
       "      <td>no</td>\n",
       "      <td>yes</td>\n",
       "      <td>no</td>\n",
       "      <td>yes</td>\n",
       "      <td>3</td>\n",
       "      <td>yes</td>\n",
       "      <td>furnished</td>\n",
       "    </tr>\n",
       "    <tr>\n",
       "      <th>4</th>\n",
       "      <td>11410000</td>\n",
       "      <td>7420</td>\n",
       "      <td>4</td>\n",
       "      <td>1</td>\n",
       "      <td>2</td>\n",
       "      <td>yes</td>\n",
       "      <td>yes</td>\n",
       "      <td>yes</td>\n",
       "      <td>no</td>\n",
       "      <td>yes</td>\n",
       "      <td>2</td>\n",
       "      <td>no</td>\n",
       "      <td>furnished</td>\n",
       "    </tr>\n",
       "  </tbody>\n",
       "</table>\n",
       "</div>"
      ],
      "text/plain": [
       "      price  area  bedrooms  bathrooms  stories mainroad guestroom basement  \\\n",
       "0  13300000  7420         4          2        3      yes        no       no   \n",
       "1  12250000  8960         4          4        4      yes        no       no   \n",
       "2  12250000  9960         3          2        2      yes        no      yes   \n",
       "3  12215000  7500         4          2        2      yes        no      yes   \n",
       "4  11410000  7420         4          1        2      yes       yes      yes   \n",
       "\n",
       "  hotwaterheating airconditioning  parking prefarea furnishingstatus  \n",
       "0              no             yes        2      yes        furnished  \n",
       "1              no             yes        3       no        furnished  \n",
       "2              no              no        2      yes   semi-furnished  \n",
       "3              no             yes        3      yes        furnished  \n",
       "4              no             yes        2       no        furnished  "
      ]
     },
     "execution_count": 2,
     "metadata": {},
     "output_type": "execute_result"
    }
   ],
   "source": [
    "housing_data = pd.read_csv('Housing.csv')\n",
    "housing_data.head()"
   ]
  },
  {
   "cell_type": "markdown",
   "id": "a9da06d0-3b01-462d-b40c-a2909db47dc9",
   "metadata": {},
   "source": [
    "### 3. Defining the variables"
   ]
  },
  {
   "cell_type": "code",
   "execution_count": 3,
   "id": "9e86c757-c7fd-4e93-8f89-b66a9da10a6d",
   "metadata": {},
   "outputs": [],
   "source": [
    "X = housing_data.drop(columns='price')\n",
    "y = housing_data['price']"
   ]
  },
  {
   "cell_type": "markdown",
   "id": "6d747c9b-a48a-4d0f-a496-c337cf841185",
   "metadata": {},
   "source": [
    "### 4. Data preprocessing"
   ]
  },
  {
   "cell_type": "markdown",
   "id": "f1bee3cf-6edf-4245-9256-c4b6519bfe1f",
   "metadata": {},
   "source": [
    "#### 4.1 Checking for missing values"
   ]
  },
  {
   "cell_type": "code",
   "execution_count": 4,
   "id": "6de2bf24-074a-4e39-b88c-2fb96b7d35e5",
   "metadata": {},
   "outputs": [
    {
     "name": "stdout",
     "output_type": "stream",
     "text": [
      "bedrooms [1, 2, 3, 4, 5, 6]\n",
      "bathrooms [1, 2, 3, 4]\n",
      "stories [1, 2, 3, 4]\n",
      "mainroad ['no', 'yes']\n",
      "guestroom ['no', 'yes']\n",
      "basement ['no', 'yes']\n",
      "hotwaterheating ['no', 'yes']\n",
      "airconditioning ['no', 'yes']\n",
      "parking [0, 1, 2, 3]\n",
      "prefarea ['no', 'yes']\n",
      "furnishingstatus ['furnished', 'semi-furnished', 'unfurnished']\n"
     ]
    }
   ],
   "source": [
    "# starting with features that have a small range of values\n",
    "for col in X.columns[1:]:\n",
    "    print(col, sorted(X[col].unique()))"
   ]
  },
  {
   "cell_type": "code",
   "execution_count": 5,
   "id": "1e6377d1-7d20-4c56-9a6e-e2b607f79a0c",
   "metadata": {},
   "outputs": [],
   "source": [
    "# then the rest of the features with a wide range of values\n",
    "assert(sum([type(X['area'][i])==np.int64 for i in range(X.shape[0])]) == X.shape[0])\n",
    "assert(sum([type(y[i])==np.int64 for i in range(len(y))]) == len(y))"
   ]
  },
  {
   "cell_type": "markdown",
   "id": "27729bb3-0f27-4ce4-a88a-83d867117e23",
   "metadata": {},
   "source": [
    "- Conclusion: No Missing Values"
   ]
  },
  {
   "cell_type": "markdown",
   "id": "86ae3b9e-3299-4b57-8213-9a6d6180c697",
   "metadata": {},
   "source": [
    "#### 4.2 Feature transformation\n",
    "- Encode/binarize nominal variables."
   ]
  },
  {
   "cell_type": "code",
   "execution_count": 6,
   "id": "f33ff9e2-1695-47a8-83d3-3e289708680c",
   "metadata": {},
   "outputs": [
    {
     "data": {
      "text/plain": [
       "['mainroad',\n",
       " 'guestroom',\n",
       " 'basement',\n",
       " 'hotwaterheating',\n",
       " 'airconditioning',\n",
       " 'prefarea',\n",
       " 'furnishingstatus']"
      ]
     },
     "execution_count": 6,
     "metadata": {},
     "output_type": "execute_result"
    }
   ],
   "source": [
    "variables_to_transform = [col for col in X.columns if X[col].dtype=='object']\n",
    "variables_to_transform"
   ]
  },
  {
   "cell_type": "code",
   "execution_count": 7,
   "id": "d6ccc56b-fadb-4758-9a8f-a726f1249994",
   "metadata": {},
   "outputs": [
    {
     "data": {
      "text/html": [
       "<div>\n",
       "<style scoped>\n",
       "    .dataframe tbody tr th:only-of-type {\n",
       "        vertical-align: middle;\n",
       "    }\n",
       "\n",
       "    .dataframe tbody tr th {\n",
       "        vertical-align: top;\n",
       "    }\n",
       "\n",
       "    .dataframe thead th {\n",
       "        text-align: right;\n",
       "    }\n",
       "</style>\n",
       "<table border=\"1\" class=\"dataframe\">\n",
       "  <thead>\n",
       "    <tr style=\"text-align: right;\">\n",
       "      <th></th>\n",
       "      <th>area</th>\n",
       "      <th>bedrooms</th>\n",
       "      <th>bathrooms</th>\n",
       "      <th>stories</th>\n",
       "      <th>mainroad</th>\n",
       "      <th>guestroom</th>\n",
       "      <th>basement</th>\n",
       "      <th>hotwaterheating</th>\n",
       "      <th>airconditioning</th>\n",
       "      <th>parking</th>\n",
       "      <th>prefarea</th>\n",
       "      <th>furnishingstatus</th>\n",
       "    </tr>\n",
       "  </thead>\n",
       "  <tbody>\n",
       "    <tr>\n",
       "      <th>0</th>\n",
       "      <td>7420</td>\n",
       "      <td>4</td>\n",
       "      <td>2</td>\n",
       "      <td>3</td>\n",
       "      <td>1</td>\n",
       "      <td>0</td>\n",
       "      <td>0</td>\n",
       "      <td>0</td>\n",
       "      <td>1</td>\n",
       "      <td>2</td>\n",
       "      <td>1</td>\n",
       "      <td>0</td>\n",
       "    </tr>\n",
       "    <tr>\n",
       "      <th>1</th>\n",
       "      <td>8960</td>\n",
       "      <td>4</td>\n",
       "      <td>4</td>\n",
       "      <td>4</td>\n",
       "      <td>1</td>\n",
       "      <td>0</td>\n",
       "      <td>0</td>\n",
       "      <td>0</td>\n",
       "      <td>1</td>\n",
       "      <td>3</td>\n",
       "      <td>0</td>\n",
       "      <td>0</td>\n",
       "    </tr>\n",
       "    <tr>\n",
       "      <th>2</th>\n",
       "      <td>9960</td>\n",
       "      <td>3</td>\n",
       "      <td>2</td>\n",
       "      <td>2</td>\n",
       "      <td>1</td>\n",
       "      <td>0</td>\n",
       "      <td>1</td>\n",
       "      <td>0</td>\n",
       "      <td>0</td>\n",
       "      <td>2</td>\n",
       "      <td>1</td>\n",
       "      <td>1</td>\n",
       "    </tr>\n",
       "    <tr>\n",
       "      <th>3</th>\n",
       "      <td>7500</td>\n",
       "      <td>4</td>\n",
       "      <td>2</td>\n",
       "      <td>2</td>\n",
       "      <td>1</td>\n",
       "      <td>0</td>\n",
       "      <td>1</td>\n",
       "      <td>0</td>\n",
       "      <td>1</td>\n",
       "      <td>3</td>\n",
       "      <td>1</td>\n",
       "      <td>0</td>\n",
       "    </tr>\n",
       "    <tr>\n",
       "      <th>4</th>\n",
       "      <td>7420</td>\n",
       "      <td>4</td>\n",
       "      <td>1</td>\n",
       "      <td>2</td>\n",
       "      <td>1</td>\n",
       "      <td>1</td>\n",
       "      <td>1</td>\n",
       "      <td>0</td>\n",
       "      <td>1</td>\n",
       "      <td>2</td>\n",
       "      <td>0</td>\n",
       "      <td>0</td>\n",
       "    </tr>\n",
       "  </tbody>\n",
       "</table>\n",
       "</div>"
      ],
      "text/plain": [
       "   area  bedrooms  bathrooms  stories  mainroad  guestroom  basement  \\\n",
       "0  7420         4          2        3         1          0         0   \n",
       "1  8960         4          4        4         1          0         0   \n",
       "2  9960         3          2        2         1          0         1   \n",
       "3  7500         4          2        2         1          0         1   \n",
       "4  7420         4          1        2         1          1         1   \n",
       "\n",
       "   hotwaterheating  airconditioning  parking  prefarea  furnishingstatus  \n",
       "0                0                1        2         1                 0  \n",
       "1                0                1        3         0                 0  \n",
       "2                0                0        2         1                 1  \n",
       "3                0                1        3         1                 0  \n",
       "4                0                1        2         0                 0  "
      ]
     },
     "execution_count": 7,
     "metadata": {},
     "output_type": "execute_result"
    }
   ],
   "source": [
    "le = LabelEncoder()\n",
    "X = X.apply(lambda x: le.fit_transform(x)\n",
    "            if x.name in variables_to_transform\n",
    "            else x)\n",
    "X.head()"
   ]
  },
  {
   "cell_type": "markdown",
   "id": "a08b3788-8192-4eda-88de-9a61aa206c05",
   "metadata": {},
   "source": [
    "### 5. Model fitting and testing\n",
    "#### 5.1 Split the data into training and test sets"
   ]
  },
  {
   "cell_type": "code",
   "execution_count": 8,
   "id": "7c6b9e21-d8a6-4b4c-a767-a4873410c3c7",
   "metadata": {},
   "outputs": [],
   "source": [
    "X_train, X_test, y_train, y_test = train_test_split(X, y, test_size = 0.3, random_state=0)"
   ]
  },
  {
   "cell_type": "markdown",
   "id": "5bdc4f67-a9b3-4691-8bde-23cc4416a890",
   "metadata": {},
   "source": [
    "#### 5.2 Fitting three models for comparison"
   ]
  },
  {
   "cell_type": "code",
   "execution_count": 9,
   "id": "8bc35a32-e30e-4caf-bd4f-82ff5e6c729b",
   "metadata": {},
   "outputs": [
    {
     "data": {
      "text/plain": [
       "0.7235015223200351"
      ]
     },
     "execution_count": 9,
     "metadata": {},
     "output_type": "execute_result"
    }
   ],
   "source": [
    "# Linear regression model\n",
    "lr = LinearRegression()\n",
    "lr.fit(X_train, y_train)\n",
    "lr.predict(X_test)\n",
    "lr.score(X_test, y_test)"
   ]
  },
  {
   "cell_type": "code",
   "execution_count": 10,
   "id": "2b3e7ad5-3cd2-434b-b361-602c902d6afc",
   "metadata": {},
   "outputs": [
    {
     "data": {
      "text/plain": [
       "0.565107788496124"
      ]
     },
     "execution_count": 10,
     "metadata": {},
     "output_type": "execute_result"
    }
   ],
   "source": [
    "# Gradient boosting model using default parameters\n",
    "gbr = GradientBoostingRegressor(random_state=0)\n",
    "gbr.fit(X_train, y_train)\n",
    "gbr.predict(X_test)\n",
    "gbr.score(X_test, y_test)"
   ]
  },
  {
   "cell_type": "code",
   "execution_count": 11,
   "id": "0275831e-1cb1-4358-bc49-ac8f18d41e75",
   "metadata": {},
   "outputs": [
    {
     "data": {
      "text/plain": [
       "0.63287304762683"
      ]
     },
     "execution_count": 11,
     "metadata": {},
     "output_type": "execute_result"
    }
   ],
   "source": [
    "# Random forest model using default parameters\n",
    "rfr = RandomForestRegressor(random_state=0)\n",
    "rfr.fit(X_train, y_train)\n",
    "rfr.predict(X_test)\n",
    "rfr.score(X_test, y_test)"
   ]
  },
  {
   "cell_type": "code",
   "execution_count": 12,
   "id": "f2571807-24f1-4d7b-b783-266e2cd51484",
   "metadata": {},
   "outputs": [
    {
     "data": {
      "text/plain": [
       "{'bootstrap': True,\n",
       " 'ccp_alpha': 0.0,\n",
       " 'criterion': 'squared_error',\n",
       " 'max_depth': None,\n",
       " 'max_features': 1.0,\n",
       " 'max_leaf_nodes': None,\n",
       " 'max_samples': None,\n",
       " 'min_impurity_decrease': 0.0,\n",
       " 'min_samples_leaf': 1,\n",
       " 'min_samples_split': 2,\n",
       " 'min_weight_fraction_leaf': 0.0,\n",
       " 'monotonic_cst': None,\n",
       " 'n_estimators': 100,\n",
       " 'n_jobs': None,\n",
       " 'oob_score': False,\n",
       " 'random_state': 0,\n",
       " 'verbose': 0,\n",
       " 'warm_start': False}"
      ]
     },
     "execution_count": 12,
     "metadata": {},
     "output_type": "execute_result"
    }
   ],
   "source": [
    "rfr.get_params()"
   ]
  },
  {
   "cell_type": "markdown",
   "id": "ff84847a-e62d-482c-ad1e-d68a1da41ab6",
   "metadata": {},
   "source": [
    "Notes\n",
    "- The linear regression model performs the best when tested against test data.\n",
    "- However, we're going to improve the other models using cross validation to select the best parameters\n",
    "- Then we'll select the best performing model"
   ]
  },
  {
   "cell_type": "markdown",
   "id": "a166c1c4-38fa-44bf-bbc3-e84e413b5c84",
   "metadata": {},
   "source": [
    "### 6. Model Selection\n",
    "- Using CV\n",
    "- Acurracy metric: r_squared"
   ]
  },
  {
   "cell_type": "code",
   "execution_count": 13,
   "id": "9bf120f6-d0e2-4833-b879-96f0952f9460",
   "metadata": {},
   "outputs": [
    {
     "data": {
      "text/plain": [
       "{'alpha': 0.9,\n",
       " 'ccp_alpha': 0.0,\n",
       " 'criterion': 'friedman_mse',\n",
       " 'init': None,\n",
       " 'learning_rate': 0.1,\n",
       " 'loss': 'squared_error',\n",
       " 'max_depth': 3,\n",
       " 'max_features': None,\n",
       " 'max_leaf_nodes': None,\n",
       " 'min_impurity_decrease': 0.0,\n",
       " 'min_samples_leaf': 1,\n",
       " 'min_samples_split': 2,\n",
       " 'min_weight_fraction_leaf': 0.0,\n",
       " 'n_estimators': 100,\n",
       " 'n_iter_no_change': None,\n",
       " 'random_state': 0,\n",
       " 'subsample': 1.0,\n",
       " 'tol': 0.0001,\n",
       " 'validation_fraction': 0.1,\n",
       " 'verbose': 0,\n",
       " 'warm_start': False}"
      ]
     },
     "execution_count": 13,
     "metadata": {},
     "output_type": "execute_result"
    }
   ],
   "source": [
    "gbr.get_params()"
   ]
  },
  {
   "cell_type": "code",
   "execution_count": 14,
   "id": "eb3e828f-4a6d-47fc-906d-b8ee6dad2bf7",
   "metadata": {},
   "outputs": [
    {
     "name": "stdout",
     "output_type": "stream",
     "text": [
      "Train score: 0.6147410687326449\n",
      "Test score: 0.6155678654501233\n",
      "Params: {'max_depth': 3, 'min_samples_split': 19, 'n_estimators': 70}\n"
     ]
    }
   ],
   "source": [
    "param_grid1 = {'max_depth':[1, 2, 3, 4, 5], 'min_samples_split':[18, 19, 20, 21, 22], 'n_estimators':[68, 69, 70, 71, 72]}\n",
    "gscv1 = GridSearchCV(\n",
    "    estimator=gbr,\n",
    "    param_grid=param_grid1,\n",
    "    scoring='r2')\n",
    "gscv1.fit(X_train, y_train)\n",
    "gscv1.predict(X_test)\n",
    "print('Train score:', gscv1.best_score_)\n",
    "print('Test score:', gscv1.score(X_test, y_test))\n",
    "print('Params:', gscv1.best_params_)"
   ]
  },
  {
   "cell_type": "code",
   "execution_count": 15,
   "id": "f0838a60-2448-476b-861a-15593d0833b9",
   "metadata": {},
   "outputs": [
    {
     "data": {
      "text/plain": [
       "{'bootstrap': True,\n",
       " 'ccp_alpha': 0.0,\n",
       " 'criterion': 'squared_error',\n",
       " 'max_depth': None,\n",
       " 'max_features': 1.0,\n",
       " 'max_leaf_nodes': None,\n",
       " 'max_samples': None,\n",
       " 'min_impurity_decrease': 0.0,\n",
       " 'min_samples_leaf': 1,\n",
       " 'min_samples_split': 2,\n",
       " 'min_weight_fraction_leaf': 0.0,\n",
       " 'monotonic_cst': None,\n",
       " 'n_estimators': 100,\n",
       " 'n_jobs': None,\n",
       " 'oob_score': False,\n",
       " 'random_state': 0,\n",
       " 'verbose': 0,\n",
       " 'warm_start': False}"
      ]
     },
     "execution_count": 15,
     "metadata": {},
     "output_type": "execute_result"
    }
   ],
   "source": [
    "rfr.get_params()"
   ]
  },
  {
   "cell_type": "code",
   "execution_count": 16,
   "id": "14275807-a85a-4bcc-b8b2-4bcf28cb8d33",
   "metadata": {
    "scrolled": true
   },
   "outputs": [
    {
     "name": "stdout",
     "output_type": "stream",
     "text": [
      "Train Score : 0.6061776648298477\n",
      "Test score: 0.6895092729343817\n",
      "Params: {'max_features': 4, 'min_samples_split': 4, 'n_estimators': 82}\n"
     ]
    }
   ],
   "source": [
    "param_grid2 = {'max_features':[2, 3, 4, 5, 6], 'min_samples_split':[2, 3, 4, 5, 6], 'n_estimators':[80, 81, 82, 83, 84]}\n",
    "gscv2 = GridSearchCV(\n",
    "    estimator=rfr,\n",
    "    param_grid=param_grid2,\n",
    "    scoring='r2')\n",
    "gscv2.fit(X_train, y_train)\n",
    "gscv2.predict(X_test)\n",
    "print('Train Score :', gscv2.best_score_)\n",
    "print('Test score:', gscv2.score(X_test, y_test))\n",
    "print('Params:', gscv2.best_params_)"
   ]
  },
  {
   "cell_type": "markdown",
   "id": "2b7e49f6-54a6-4f3c-9864-9071aa1f0293",
   "metadata": {},
   "source": [
    "Conclusion: Use a linear regression model as it has the highest score."
   ]
  }
 ],
 "metadata": {
  "kernelspec": {
   "display_name": "Python 3 (ipykernel)",
   "language": "python",
   "name": "python3"
  },
  "language_info": {
   "codemirror_mode": {
    "name": "ipython",
    "version": 3
   },
   "file_extension": ".py",
   "mimetype": "text/x-python",
   "name": "python",
   "nbconvert_exporter": "python",
   "pygments_lexer": "ipython3",
   "version": "3.12.4"
  }
 },
 "nbformat": 4,
 "nbformat_minor": 5
}
